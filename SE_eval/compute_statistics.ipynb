{
 "cells": [
  {
   "cell_type": "code",
   "execution_count": null,
   "id": "b49b00c8-902c-46c3-b3e8-c89d36352fb9",
   "metadata": {},
   "outputs": [],
   "source": [
    "import pandas as pd\n",
    "from IPython.display import display, display_html\n"
   ]
  },
  {
   "cell_type": "code",
   "execution_count": null,
   "id": "6bdb0037-73a4-46e9-bae0-d9fb3e83f2f4",
   "metadata": {},
   "outputs": [],
   "source": [
    "# Display results in rows\n",
    "import pandas as pd\n",
    "from IPython.display import display, HTML\n",
    "import numpy as np\n",
    "\n",
    "def display_df(params):\n",
    "    metric_columns = [\"SI-SDR\", \"PESQ\", \"STOI\", \"MOS_SIG\", \"MOS_BAK\", \"MOS_OVR\"]\n",
    "    combined_results = pd.DataFrame(columns=[\"SI-SDR ± SE\", \"PESQ ± SE\", \"STOI ± SE\"])\n",
    "\n",
    "    for key, filepath in params.items():\n",
    "        df = pd.read_csv(filepath)\n",
    "\n",
    "        # Filter the DataFrame\n",
    "        condition = (df['Noise SNR'] > -10) & (df['Noise SNR'] < 10) # & (df['Noise Type'] != 'Street') & (df['Noise Type'] != 'Cafe')\n",
    "        df_filtered = df[condition]\n",
    "        # print(len(df_filtered))\n",
    "        # Calculate average and standard error\n",
    "        average = df_filtered[metric_columns].mean()\n",
    "        standard_error = df_filtered[metric_columns].std() / np.sqrt(len(df_filtered))\n",
    "\n",
    "        # Round the values to two decimal places\n",
    "        average = average.round(2)\n",
    "        standard_error = standard_error.round(2)\n",
    "        \n",
    "        # Create a new DataFrame for the data frame's metrics and their standard errors\n",
    "        df_row = pd.DataFrame({f\"{metric} ± SE\": [f\"{average[metric]} ± {standard_error[metric]}\"] for metric in metric_columns})\n",
    "        df_row.index = [key]\n",
    "\n",
    "        # Append the data frame's row to the combined results DataFrame\n",
    "        combined_results = pd.concat([combined_results, df_row])\n",
    "\n",
    "    # Display the combined results\n",
    "    display(combined_results)"
   ]
  },
  {
   "cell_type": "markdown",
   "id": "b87470b9",
   "metadata": {},
   "source": [
    "# Average SE metrics of different diffusion-based methods"
   ]
  },
  {
   "cell_type": "code",
   "execution_count": null,
   "id": "40b504b4",
   "metadata": {},
   "outputs": [],
   "source": [
    "params = {\"Input (TCD)\":\"path_to_the_corresponding/input_metrics.csv\",\n",
    "         \"Supervised (TCD)\":\"path_to_the_corresponding/metrics.csv\",\n",
    "         \"SGMSE+ (TCD)\":\"path_to_the_corresponding/metrics.csv\",\n",
    "         \"Proposed (TCD)\":\"path_to_the_corresponding/metrics.csv\",\n",
    "         \"Supervised (WSJ0)\":\"path_to_the_corresponding/metrics.csv\",\n",
    "         \"SGMSE+ (WSJ0)\":\"path_to_the_corresponding/metrics.csv\",\n",
    "         \"Proposed (WSJ0)\":\"path_to_the_corresponding/metrics.csv\",\n",
    "          }\n",
    "display_df(params)"
   ]
  },
  {
   "cell_type": "code",
   "execution_count": null,
   "id": "cf074fc1",
   "metadata": {},
   "outputs": [],
   "source": [
    "params = {\"Input (WSJ0)\":\"path_to_the_corresponding/input_metrics.csv\",\n",
    "         \"Supervised (WSJ0)\":\"path_to_the_corresponding/metrics.csv\",\n",
    "         \"SGMSE+ (WSJ0)\":\"path_to_the_corresponding/metrics.csv\",\n",
    "         \"Proposed (WSJ0)\":\"path_to_the_corresponding/metrics.csv\",\n",
    "         \"Supervised (TCD)\":\"path_to_the_corresponding/metrics.csv\",\n",
    "         \"SGMSE+ (TCD)\":\"path_to_the_corresponding/metrics.csv\",\n",
    "         \"Proposed (TCD)\":\"path_to_the_corresponding/metrics.csv\",\n",
    "          }\n",
    "display_df(params)"
   ]
  },
  {
   "cell_type": "code",
   "execution_count": null,
   "id": "44842b7b-1922-4648-bd74-05c4dc71d3ac",
   "metadata": {},
   "outputs": [],
   "source": []
  }
 ],
 "metadata": {
  "kernelspec": {
   "display_name": "Python 3 (ipykernel)",
   "language": "python",
   "name": "python3"
  },
  "language_info": {
   "codemirror_mode": {
    "name": "ipython",
    "version": 3
   },
   "file_extension": ".py",
   "mimetype": "text/x-python",
   "name": "python",
   "nbconvert_exporter": "python",
   "pygments_lexer": "ipython3",
   "version": "3.8.16"
  }
 },
 "nbformat": 4,
 "nbformat_minor": 5
}
